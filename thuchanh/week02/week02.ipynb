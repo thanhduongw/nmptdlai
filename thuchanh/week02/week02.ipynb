{
 "cells": [
  {
   "cell_type": "code",
   "execution_count": 150,
   "metadata": {},
   "outputs": [],
   "source": [
    "# DHCNTT17A\n",
    "# 22643441\n",
    "# author: Lê Vũ Thanh Dương"
   ]
  },
  {
   "cell_type": "code",
   "execution_count": 1,
   "metadata": {},
   "outputs": [],
   "source": [
    "import pandas as pd\n",
    "import numpy as np\n",
    "import matplotlib.pyplot as plt\n",
    "import seaborn as sns  "
   ]
  },
  {
   "cell_type": "code",
   "execution_count": 2,
   "metadata": {},
   "outputs": [],
   "source": [
    "# 1. Đọc dữ liệu lên dataframe\n",
    "thietbi = pd.read_csv('thietbi.csv')\n",
    "nguoidung_sudung = pd.read_csv('nguoidung_sudung.csv')\n",
    "nguoidung_thietbi = pd.read_csv('nguoidung_thietbi.csv')"
   ]
  },
  {
   "cell_type": "code",
   "execution_count": 83,
   "metadata": {},
   "outputs": [
    {
     "data": {
      "text/html": [
       "<div>\n",
       "<style scoped>\n",
       "    .dataframe tbody tr th:only-of-type {\n",
       "        vertical-align: middle;\n",
       "    }\n",
       "\n",
       "    .dataframe tbody tr th {\n",
       "        vertical-align: top;\n",
       "    }\n",
       "\n",
       "    .dataframe thead th {\n",
       "        text-align: right;\n",
       "    }\n",
       "</style>\n",
       "<table border=\"1\" class=\"dataframe\">\n",
       "  <thead>\n",
       "    <tr style=\"text-align: right;\">\n",
       "      <th></th>\n",
       "      <th>Branding</th>\n",
       "      <th>MarketingName</th>\n",
       "      <th>Device</th>\n",
       "      <th>Model</th>\n",
       "    </tr>\n",
       "  </thead>\n",
       "  <tbody>\n",
       "    <tr>\n",
       "      <th>0</th>\n",
       "      <td>NaN</td>\n",
       "      <td>NaN</td>\n",
       "      <td>AD681H</td>\n",
       "      <td>Smartfren Andromax AD681H</td>\n",
       "    </tr>\n",
       "    <tr>\n",
       "      <th>1</th>\n",
       "      <td>NaN</td>\n",
       "      <td>NaN</td>\n",
       "      <td>FJL21</td>\n",
       "      <td>FJL21</td>\n",
       "    </tr>\n",
       "    <tr>\n",
       "      <th>2</th>\n",
       "      <td>NaN</td>\n",
       "      <td>NaN</td>\n",
       "      <td>T31</td>\n",
       "      <td>Panasonic T31</td>\n",
       "    </tr>\n",
       "    <tr>\n",
       "      <th>3</th>\n",
       "      <td>NaN</td>\n",
       "      <td>NaN</td>\n",
       "      <td>hws7721g</td>\n",
       "      <td>MediaPad 7 Youth 2</td>\n",
       "    </tr>\n",
       "    <tr>\n",
       "      <th>4</th>\n",
       "      <td>3Q</td>\n",
       "      <td>OC1020A</td>\n",
       "      <td>OC1020A</td>\n",
       "      <td>OC1020A</td>\n",
       "    </tr>\n",
       "  </tbody>\n",
       "</table>\n",
       "</div>"
      ],
      "text/plain": [
       "  Branding MarketingName    Device                      Model\n",
       "0      NaN           NaN    AD681H  Smartfren Andromax AD681H\n",
       "1      NaN           NaN     FJL21                      FJL21\n",
       "2      NaN           NaN       T31              Panasonic T31\n",
       "3      NaN           NaN  hws7721g         MediaPad 7 Youth 2\n",
       "4       3Q       OC1020A   OC1020A                    OC1020A"
      ]
     },
     "execution_count": 83,
     "metadata": {},
     "output_type": "execute_result"
    }
   ],
   "source": [
    "# 3. Đổi tên các cột dữ liệu cần thiết\n",
    "thietbi.rename(columns={'Retail Branding': 'Branding', 'Marketing Name': 'MarketingName'}, inplace=True)\n",
    "thietbi.head()"
   ]
  },
  {
   "cell_type": "code",
   "execution_count": null,
   "metadata": {},
   "outputs": [
    {
     "data": {
      "text/html": [
       "<div>\n",
       "<style scoped>\n",
       "    .dataframe tbody tr th:only-of-type {\n",
       "        vertical-align: middle;\n",
       "    }\n",
       "\n",
       "    .dataframe tbody tr th {\n",
       "        vertical-align: top;\n",
       "    }\n",
       "\n",
       "    .dataframe thead th {\n",
       "        text-align: right;\n",
       "    }\n",
       "</style>\n",
       "<table border=\"1\" class=\"dataframe\">\n",
       "  <thead>\n",
       "    <tr style=\"text-align: right;\">\n",
       "      <th></th>\n",
       "      <th>outgoing_mins_per_month</th>\n",
       "      <th>outgoing_sms_per_month</th>\n",
       "      <th>monthly_mb</th>\n",
       "      <th>use_id</th>\n",
       "      <th>platform</th>\n",
       "      <th>device</th>\n",
       "    </tr>\n",
       "  </thead>\n",
       "  <tbody>\n",
       "    <tr>\n",
       "      <th>0</th>\n",
       "      <td>21.97</td>\n",
       "      <td>4.82</td>\n",
       "      <td>1557.33</td>\n",
       "      <td>22787</td>\n",
       "      <td>android</td>\n",
       "      <td>GT-I9505</td>\n",
       "    </tr>\n",
       "    <tr>\n",
       "      <th>1</th>\n",
       "      <td>1710.08</td>\n",
       "      <td>136.88</td>\n",
       "      <td>7267.55</td>\n",
       "      <td>22788</td>\n",
       "      <td>android</td>\n",
       "      <td>SM-G930F</td>\n",
       "    </tr>\n",
       "    <tr>\n",
       "      <th>2</th>\n",
       "      <td>1710.08</td>\n",
       "      <td>136.88</td>\n",
       "      <td>7267.55</td>\n",
       "      <td>22789</td>\n",
       "      <td>android</td>\n",
       "      <td>SM-G930F</td>\n",
       "    </tr>\n",
       "    <tr>\n",
       "      <th>3</th>\n",
       "      <td>94.46</td>\n",
       "      <td>35.17</td>\n",
       "      <td>519.12</td>\n",
       "      <td>22790</td>\n",
       "      <td>android</td>\n",
       "      <td>D2303</td>\n",
       "    </tr>\n",
       "    <tr>\n",
       "      <th>4</th>\n",
       "      <td>71.59</td>\n",
       "      <td>79.26</td>\n",
       "      <td>1557.33</td>\n",
       "      <td>22792</td>\n",
       "      <td>android</td>\n",
       "      <td>SM-G361F</td>\n",
       "    </tr>\n",
       "  </tbody>\n",
       "</table>\n",
       "</div>"
      ],
      "text/plain": [
       "   outgoing_mins_per_month  outgoing_sms_per_month  monthly_mb  use_id  \\\n",
       "0                    21.97                    4.82     1557.33   22787   \n",
       "1                  1710.08                  136.88     7267.55   22788   \n",
       "2                  1710.08                  136.88     7267.55   22789   \n",
       "3                    94.46                   35.17      519.12   22790   \n",
       "4                    71.59                   79.26     1557.33   22792   \n",
       "\n",
       "  platform    device  \n",
       "0  android  GT-I9505  \n",
       "1  android  SM-G930F  \n",
       "2  android  SM-G930F  \n",
       "3  android     D2303  \n",
       "4  android  SM-G361F  "
      ]
     },
     "execution_count": 58,
     "metadata": {},
     "output_type": "execute_result"
    }
   ],
   "source": [
    "# 4. Trộn bảng nguoidung_sudung và nguoidung_thietbi thông qua inner join để được bảng \n",
    "# kết quả có các cột sau: [outgoing_mins_per_month, outgoing_sms_per_month, \n",
    "# monthly_mb, use_id, platform, device]\n",
    "dfKetQua = pd.merge(nguoidung_sudung, nguoidung_thietbi[['use_id','platform', 'device']], on='use_id', how='left')\n",
    "dfKetQua.head(5)"
   ]
  },
  {
   "cell_type": "code",
   "execution_count": 59,
   "metadata": {},
   "outputs": [
    {
     "data": {
      "text/html": [
       "<div>\n",
       "<style scoped>\n",
       "    .dataframe tbody tr th:only-of-type {\n",
       "        vertical-align: middle;\n",
       "    }\n",
       "\n",
       "    .dataframe tbody tr th {\n",
       "        vertical-align: top;\n",
       "    }\n",
       "\n",
       "    .dataframe thead th {\n",
       "        text-align: right;\n",
       "    }\n",
       "</style>\n",
       "<table border=\"1\" class=\"dataframe\">\n",
       "  <thead>\n",
       "    <tr style=\"text-align: right;\">\n",
       "      <th></th>\n",
       "      <th>outgoing_mins_per_month</th>\n",
       "      <th>outgoing_sms_per_month</th>\n",
       "      <th>monthly_mb</th>\n",
       "      <th>use_id</th>\n",
       "      <th>platform</th>\n",
       "      <th>device</th>\n",
       "      <th>Branding</th>\n",
       "      <th>Model</th>\n",
       "    </tr>\n",
       "  </thead>\n",
       "  <tbody>\n",
       "    <tr>\n",
       "      <th>0</th>\n",
       "      <td>21.97</td>\n",
       "      <td>4.82</td>\n",
       "      <td>1557.33</td>\n",
       "      <td>22787</td>\n",
       "      <td>android</td>\n",
       "      <td>GT-I9505</td>\n",
       "      <td>Samsung</td>\n",
       "      <td>GT-I9505</td>\n",
       "    </tr>\n",
       "    <tr>\n",
       "      <th>1</th>\n",
       "      <td>1710.08</td>\n",
       "      <td>136.88</td>\n",
       "      <td>7267.55</td>\n",
       "      <td>22788</td>\n",
       "      <td>android</td>\n",
       "      <td>SM-G930F</td>\n",
       "      <td>Samsung</td>\n",
       "      <td>SM-G930F</td>\n",
       "    </tr>\n",
       "    <tr>\n",
       "      <th>2</th>\n",
       "      <td>1710.08</td>\n",
       "      <td>136.88</td>\n",
       "      <td>7267.55</td>\n",
       "      <td>22789</td>\n",
       "      <td>android</td>\n",
       "      <td>SM-G930F</td>\n",
       "      <td>Samsung</td>\n",
       "      <td>SM-G930F</td>\n",
       "    </tr>\n",
       "    <tr>\n",
       "      <th>3</th>\n",
       "      <td>94.46</td>\n",
       "      <td>35.17</td>\n",
       "      <td>519.12</td>\n",
       "      <td>22790</td>\n",
       "      <td>android</td>\n",
       "      <td>D2303</td>\n",
       "      <td>Sony</td>\n",
       "      <td>D2303</td>\n",
       "    </tr>\n",
       "    <tr>\n",
       "      <th>4</th>\n",
       "      <td>71.59</td>\n",
       "      <td>79.26</td>\n",
       "      <td>1557.33</td>\n",
       "      <td>22792</td>\n",
       "      <td>android</td>\n",
       "      <td>SM-G361F</td>\n",
       "      <td>Samsung</td>\n",
       "      <td>SM-G361F</td>\n",
       "    </tr>\n",
       "  </tbody>\n",
       "</table>\n",
       "</div>"
      ],
      "text/plain": [
       "   outgoing_mins_per_month  outgoing_sms_per_month  monthly_mb  use_id  \\\n",
       "0                    21.97                    4.82     1557.33   22787   \n",
       "1                  1710.08                  136.88     7267.55   22788   \n",
       "2                  1710.08                  136.88     7267.55   22789   \n",
       "3                    94.46                   35.17      519.12   22790   \n",
       "4                    71.59                   79.26     1557.33   22792   \n",
       "\n",
       "  platform    device Branding     Model  \n",
       "0  android  GT-I9505  Samsung  GT-I9505  \n",
       "1  android  SM-G930F  Samsung  SM-G930F  \n",
       "2  android  SM-G930F  Samsung  SM-G930F  \n",
       "3  android     D2303     Sony     D2303  \n",
       "4  android  SM-G361F  Samsung  SM-G361F  "
      ]
     },
     "execution_count": 59,
     "metadata": {},
     "output_type": "execute_result"
    }
   ],
   "source": [
    "# 5. Tiếp tục inner-join bảng thietbi và dfKetQua để có thêm 2 cột Model và Branding trong \n",
    "# bảng kết quả cuối cùng. Lưu ý ở đây khóa liên kết sẽ khác tên\n",
    "dfKetQua = pd.merge(dfKetQua, thietbi[['Branding', 'Model']], left_on='device', right_on='Model', how='left')\n",
    "dfKetQua.head(5)"
   ]
  },
  {
   "cell_type": "code",
   "execution_count": 84,
   "metadata": {},
   "outputs": [
    {
     "data": {
      "text/html": [
       "<div>\n",
       "<style scoped>\n",
       "    .dataframe tbody tr th:only-of-type {\n",
       "        vertical-align: middle;\n",
       "    }\n",
       "\n",
       "    .dataframe tbody tr th {\n",
       "        vertical-align: top;\n",
       "    }\n",
       "\n",
       "    .dataframe thead th {\n",
       "        text-align: right;\n",
       "    }\n",
       "</style>\n",
       "<table border=\"1\" class=\"dataframe\">\n",
       "  <thead>\n",
       "    <tr style=\"text-align: right;\">\n",
       "      <th></th>\n",
       "      <th>outgoing_mins_per_month</th>\n",
       "      <th>outgoing_sms_per_month</th>\n",
       "      <th>monthly_mb</th>\n",
       "      <th>use_id</th>\n",
       "      <th>platform</th>\n",
       "      <th>device</th>\n",
       "      <th>Branding</th>\n",
       "      <th>Model</th>\n",
       "    </tr>\n",
       "  </thead>\n",
       "  <tbody>\n",
       "    <tr>\n",
       "      <th>0</th>\n",
       "      <td>21.97</td>\n",
       "      <td>4.82</td>\n",
       "      <td>1557.33</td>\n",
       "      <td>22787</td>\n",
       "      <td>android</td>\n",
       "      <td>GT-I9505</td>\n",
       "      <td>Samsung</td>\n",
       "      <td>GT-I9505</td>\n",
       "    </tr>\n",
       "    <tr>\n",
       "      <th>9</th>\n",
       "      <td>69.80</td>\n",
       "      <td>14.70</td>\n",
       "      <td>25955.55</td>\n",
       "      <td>22801</td>\n",
       "      <td>android</td>\n",
       "      <td>GT-I9505</td>\n",
       "      <td>Samsung</td>\n",
       "      <td>GT-I9505</td>\n",
       "    </tr>\n",
       "    <tr>\n",
       "      <th>11</th>\n",
       "      <td>189.10</td>\n",
       "      <td>24.08</td>\n",
       "      <td>519.12</td>\n",
       "      <td>22805</td>\n",
       "      <td>android</td>\n",
       "      <td>GT-I9195</td>\n",
       "      <td>Samsung</td>\n",
       "      <td>GT-I9195</td>\n",
       "    </tr>\n",
       "    <tr>\n",
       "      <th>31</th>\n",
       "      <td>85.97</td>\n",
       "      <td>26.94</td>\n",
       "      <td>407.01</td>\n",
       "      <td>22831</td>\n",
       "      <td>android</td>\n",
       "      <td>GT-I8190N</td>\n",
       "      <td>Samsung</td>\n",
       "      <td>GT-I8190N</td>\n",
       "    </tr>\n",
       "    <tr>\n",
       "      <th>56</th>\n",
       "      <td>29.54</td>\n",
       "      <td>34.78</td>\n",
       "      <td>33.79</td>\n",
       "      <td>22871</td>\n",
       "      <td>android</td>\n",
       "      <td>GT-I9300</td>\n",
       "      <td>Samsung</td>\n",
       "      <td>GT-I9300</td>\n",
       "    </tr>\n",
       "  </tbody>\n",
       "</table>\n",
       "</div>"
      ],
      "text/plain": [
       "    outgoing_mins_per_month  outgoing_sms_per_month  monthly_mb  use_id  \\\n",
       "0                     21.97                    4.82     1557.33   22787   \n",
       "9                     69.80                   14.70    25955.55   22801   \n",
       "11                   189.10                   24.08      519.12   22805   \n",
       "31                    85.97                   26.94      407.01   22831   \n",
       "56                    29.54                   34.78       33.79   22871   \n",
       "\n",
       "   platform     device Branding      Model  \n",
       "0   android   GT-I9505  Samsung   GT-I9505  \n",
       "9   android   GT-I9505  Samsung   GT-I9505  \n",
       "11  android   GT-I9195  Samsung   GT-I9195  \n",
       "31  android  GT-I8190N  Samsung  GT-I8190N  \n",
       "56  android   GT-I9300  Samsung   GT-I9300  "
      ]
     },
     "execution_count": 84,
     "metadata": {},
     "output_type": "execute_result"
    }
   ],
   "source": [
    "# 6. Hãy liệt kê 5 dòng đầu tiên các mẫu thiết bị (cột device) bắt đầu bằng GT\n",
    "dfKetQua['device'].fillna('Unknown', inplace=True)\n",
    "dfKetQua[dfKetQua.device.str.startswith('GT')].head(5)"
   ]
  },
  {
   "cell_type": "code",
   "execution_count": null,
   "metadata": {},
   "outputs": [
    {
     "data": {
      "text/html": [
       "<div>\n",
       "<style scoped>\n",
       "    .dataframe tbody tr th:only-of-type {\n",
       "        vertical-align: middle;\n",
       "    }\n",
       "\n",
       "    .dataframe tbody tr th {\n",
       "        vertical-align: top;\n",
       "    }\n",
       "\n",
       "    .dataframe thead th {\n",
       "        text-align: right;\n",
       "    }\n",
       "</style>\n",
       "<table border=\"1\" class=\"dataframe\">\n",
       "  <thead>\n",
       "    <tr style=\"text-align: right;\">\n",
       "      <th></th>\n",
       "      <th>outgoing_mins_per_month</th>\n",
       "      <th>outgoing_sms_per_month</th>\n",
       "      <th>monthly_mb</th>\n",
       "      <th>use_id</th>\n",
       "    </tr>\n",
       "    <tr>\n",
       "      <th>Branding</th>\n",
       "      <th></th>\n",
       "      <th></th>\n",
       "      <th></th>\n",
       "      <th></th>\n",
       "    </tr>\n",
       "  </thead>\n",
       "  <tbody>\n",
       "    <tr>\n",
       "      <th>HTC</th>\n",
       "      <td>299.842955</td>\n",
       "      <td>93.059318</td>\n",
       "      <td>5144.077955</td>\n",
       "      <td>44</td>\n",
       "    </tr>\n",
       "    <tr>\n",
       "      <th>Huawei</th>\n",
       "      <td>81.526667</td>\n",
       "      <td>9.500000</td>\n",
       "      <td>1561.226667</td>\n",
       "      <td>3</td>\n",
       "    </tr>\n",
       "    <tr>\n",
       "      <th>LGE</th>\n",
       "      <td>111.530000</td>\n",
       "      <td>12.760000</td>\n",
       "      <td>1557.330000</td>\n",
       "      <td>2</td>\n",
       "    </tr>\n",
       "    <tr>\n",
       "      <th>Lava</th>\n",
       "      <td>60.650000</td>\n",
       "      <td>261.900000</td>\n",
       "      <td>12458.670000</td>\n",
       "      <td>2</td>\n",
       "    </tr>\n",
       "    <tr>\n",
       "      <th>Lenovo</th>\n",
       "      <td>215.920000</td>\n",
       "      <td>12.930000</td>\n",
       "      <td>1557.330000</td>\n",
       "      <td>2</td>\n",
       "    </tr>\n",
       "    <tr>\n",
       "      <th>Motorola</th>\n",
       "      <td>95.127500</td>\n",
       "      <td>65.666250</td>\n",
       "      <td>3946.500000</td>\n",
       "      <td>16</td>\n",
       "    </tr>\n",
       "    <tr>\n",
       "      <th>OnePlus</th>\n",
       "      <td>354.855000</td>\n",
       "      <td>48.330000</td>\n",
       "      <td>6575.410000</td>\n",
       "      <td>6</td>\n",
       "    </tr>\n",
       "    <tr>\n",
       "      <th>Samsung</th>\n",
       "      <td>191.010093</td>\n",
       "      <td>92.390463</td>\n",
       "      <td>4017.318889</td>\n",
       "      <td>108</td>\n",
       "    </tr>\n",
       "    <tr>\n",
       "      <th>Sony</th>\n",
       "      <td>177.315625</td>\n",
       "      <td>40.176250</td>\n",
       "      <td>3212.000625</td>\n",
       "      <td>16</td>\n",
       "    </tr>\n",
       "    <tr>\n",
       "      <th>Vodafone</th>\n",
       "      <td>42.750000</td>\n",
       "      <td>46.830000</td>\n",
       "      <td>5191.120000</td>\n",
       "      <td>1</td>\n",
       "    </tr>\n",
       "    <tr>\n",
       "      <th>ZTE</th>\n",
       "      <td>42.750000</td>\n",
       "      <td>46.830000</td>\n",
       "      <td>5191.120000</td>\n",
       "      <td>1</td>\n",
       "    </tr>\n",
       "  </tbody>\n",
       "</table>\n",
       "</div>"
      ],
      "text/plain": [
       "          outgoing_mins_per_month  outgoing_sms_per_month    monthly_mb  \\\n",
       "Branding                                                                  \n",
       "HTC                    299.842955               93.059318   5144.077955   \n",
       "Huawei                  81.526667                9.500000   1561.226667   \n",
       "LGE                    111.530000               12.760000   1557.330000   \n",
       "Lava                    60.650000              261.900000  12458.670000   \n",
       "Lenovo                 215.920000               12.930000   1557.330000   \n",
       "Motorola                95.127500               65.666250   3946.500000   \n",
       "OnePlus                354.855000               48.330000   6575.410000   \n",
       "Samsung                191.010093               92.390463   4017.318889   \n",
       "Sony                   177.315625               40.176250   3212.000625   \n",
       "Vodafone                42.750000               46.830000   5191.120000   \n",
       "ZTE                     42.750000               46.830000   5191.120000   \n",
       "\n",
       "          use_id  \n",
       "Branding          \n",
       "HTC           44  \n",
       "Huawei         3  \n",
       "LGE            2  \n",
       "Lava           2  \n",
       "Lenovo         2  \n",
       "Motorola      16  \n",
       "OnePlus        6  \n",
       "Samsung      108  \n",
       "Sony          16  \n",
       "Vodafone       1  \n",
       "ZTE            1  "
      ]
     },
     "execution_count": 62,
     "metadata": {},
     "output_type": "execute_result"
    }
   ],
   "source": [
    "# 7. Hãy thống kê trung bình số phút hàng tháng, trung bình sms và trung bình data, số lượng \n",
    "# sử dụng của các nhãn hàng\n",
    "dfKetQua.groupby('Branding').agg({'outgoing_mins_per_month':'mean', 'outgoing_sms_per_month': 'mean', 'monthly_mb': 'mean', 'use_id': 'count'})"
   ]
  },
  {
   "cell_type": "code",
   "execution_count": 102,
   "metadata": {},
   "outputs": [
    {
     "data": {
      "image/png": "[encoded data removed]",
      "text/plain": [
       "<Figure size 640x480 with 1 Axes>"
      ]
     },
     "metadata": {},
     "output_type": "display_data"
    }
   ],
   "source": [
    "# 8. Trực quan số lượng người dùng các nhãn hàng\n",
    "sns.countplot(y= 'Branding', data=dfKetQua, hue='Branding', legend=False)\n",
    "plt.show()"
   ]
  },
  {
   "cell_type": "code",
   "execution_count": 103,
   "metadata": {},
   "outputs": [
    {
     "data": {
      "image/png": "[encoded data removed]",
      "text/plain": [
       "<Figure size 640x480 with 1 Axes>"
      ]
     },
     "metadata": {},
     "output_type": "display_data"
    }
   ],
   "source": [
    "# 9. Trực quan hóa dữ liệu trung bình phút gọi, trung bình sms và dung lượng sử dụng trên \n",
    "# từng nhóm nhãn hàng bán lẻ\n",
    "sns.barplot(y='Branding', x='outgoing_mins_per_month', data=dfKetQua, hue='Branding', estimator=np.mean, errorbar=None, legend=False)\n",
    "plt.show()"
   ]
  },
  {
   "cell_type": "code",
   "execution_count": 99,
   "metadata": {},
   "outputs": [
    {
     "data": {
      "image/png": "[encoded data removed]",
      "text/plain": [
       "<Figure size 640x480 with 1 Axes>"
      ]
     },
     "metadata": {},
     "output_type": "display_data"
    }
   ],
   "source": [
    "# 10. Khảo sát tương quan giữa phút gọi, sms và dung lượng trên từng nhóm nhãn hàng\n",
    "sns.scatterplot(x='outgoing_mins_per_month', y='outgoing_sms_per_month', data=dfKetQua, hue='Branding', size='monthly_mb', alpha=0.5)\n",
    "plt.show()"
   ]
  },
  {
   "cell_type": "code",
   "execution_count": 115,
   "metadata": {},
   "outputs": [
    {
     "data": {
      "text/plain": [
       "TtestResult(statistic=4.043062626787007, pvalue=6.761075437018016e-05, df=291)"
      ]
     },
     "execution_count": 115,
     "metadata": {},
     "output_type": "execute_result"
    }
   ],
   "source": [
    "# 11. Hãy kiểm định xem trung bình outgoing_mins_per_month có bằng 200 phút\n",
    "import scipy.stats as stats\n",
    "stats.ttest_1samp(dfKetQua['outgoing_mins_per_month'], popmean=200)"
   ]
  },
  {
   "cell_type": "code",
   "execution_count": 116,
   "metadata": {},
   "outputs": [
    {
     "name": "stdout",
     "output_type": "stream",
     "text": [
      "Không đủ bằng chứng để khẳng định trung bình outgoing_mins_per_month bằng 200 phút\n"
     ]
    }
   ],
   "source": [
    "print('Không đủ bằng chứng để khẳng định trung bình outgoing_mins_per_month bằng 200 phút')"
   ]
  },
  {
   "cell_type": "code",
   "execution_count": 117,
   "metadata": {},
   "outputs": [
    {
     "data": {
      "text/plain": [
       "TtestResult(statistic=-0.8657558154979389, pvalue=0.38733728270394974, df=291)"
      ]
     },
     "execution_count": 117,
     "metadata": {},
     "output_type": "execute_result"
    }
   ],
   "source": [
    "# 12. Hãy kiểm định xem trung bình outgoing_sms_per_month có bằng 100 tin nhắn\n",
    "stats.ttest_1samp(dfKetQua['outgoing_sms_per_month'], popmean=100)"
   ]
  },
  {
   "cell_type": "code",
   "execution_count": 118,
   "metadata": {},
   "outputs": [
    {
     "name": "stdout",
     "output_type": "stream",
     "text": [
      "Không đủ bằng chứng để bác bỏ trung bình outgoing_sms_per_month bằng 100 tin nhắn\n"
     ]
    }
   ],
   "source": [
    "print('Không đủ bằng chứng để bác bỏ trung bình outgoing_sms_per_month bằng 100 tin nhắn')"
   ]
  },
  {
   "cell_type": "code",
   "execution_count": 119,
   "metadata": {},
   "outputs": [
    {
     "data": {
      "text/plain": [
       "TtestResult(statistic=6.270337979876716, pvalue=1.298354665712386e-09, df=291)"
      ]
     },
     "execution_count": 119,
     "metadata": {},
     "output_type": "execute_result"
    }
   ],
   "source": [
    "# 13. Hãy kiểm định xem trung bình monthly_mb có bằng 2048 mb\n",
    "stats.ttest_1samp(dfKetQua['monthly_mb'], popmean=2048)"
   ]
  },
  {
   "cell_type": "code",
   "execution_count": 122,
   "metadata": {},
   "outputs": [
    {
     "name": "stdout",
     "output_type": "stream",
     "text": [
      "Không đủ bằng chứng để khẳng định trung bình monthly_mb bằng 2048 mb\n"
     ]
    }
   ],
   "source": [
    "print('Không đủ bằng chứng để khẳng định trung bình monthly_mb bằng 2048 mb')"
   ]
  },
  {
   "cell_type": "code",
   "execution_count": 124,
   "metadata": {},
   "outputs": [
    {
     "name": "stdout",
     "output_type": "stream",
     "text": [
      "                         outgoing_mins_per_month  outgoing_sms_per_month  \\\n",
      "outgoing_mins_per_month                 1.000000                0.108519   \n",
      "outgoing_sms_per_month                  0.108519                1.000000   \n",
      "monthly_mb                              0.117056               -0.072870   \n",
      "\n",
      "                         monthly_mb  \n",
      "outgoing_mins_per_month    0.117056  \n",
      "outgoing_sms_per_month    -0.072870  \n",
      "monthly_mb                 1.000000  \n"
     ]
    }
   ],
   "source": [
    "# 14. Hãy tạo ma trận tương quan giữa [outgoing_mins_per_month, outgoing_sms_per_month, \n",
    "# monthly_mb] và sắp xếp tăng dần về mức độ tương quan\n",
    "dfCorr = dfKetQua[['outgoing_mins_per_month', 'outgoing_sms_per_month', 'monthly_mb']].corr()\n",
    "dfCorr.unstack().sort_values().drop_duplicates()\n",
    "print(dfCorr)\n"
   ]
  },
  {
   "cell_type": "code",
   "execution_count": 139,
   "metadata": {},
   "outputs": [
    {
     "name": "stdout",
     "output_type": "stream",
     "text": [
      "Hệ số tương quan Pearson: 0.10851853963490199\n",
      "P-value: 0.06404245105516108\n",
      "Không thể kết luận hai biến outgoing_mins_per_month và outgoing_sms_per_month có tương quan.\n"
     ]
    }
   ],
   "source": [
    "# 15. Kiểm định xem outgoing_mins_per_month, outgoing_sms_per_month có tương quan với nhau không\n",
    "from scipy.stats import pearsonr\n",
    "correlation_coefficient, p_value = pearsonr(dfKetQua['outgoing_mins_per_month'], dfKetQua['outgoing_sms_per_month'])\n",
    "print(\"Hệ số tương quan Pearson:\", correlation_coefficient)\n",
    "print(\"P-value:\", p_value)\n",
    "alpha = 0.05  # Mức ý nghĩa\n",
    "if p_value < alpha:\n",
    "    print(\"Hai biến outgoing_mins_per_month và outgoing_sms_per_month có tương quan.\")\n",
    "else:\n",
    "    print(\"Không thể kết luận hai biến outgoing_mins_per_month và outgoing_sms_per_month có tương quan.\")"
   ]
  },
  {
   "cell_type": "code",
   "execution_count": 140,
   "metadata": {},
   "outputs": [
    {
     "name": "stdout",
     "output_type": "stream",
     "text": [
      "Chi-square statistic: 0.0\n",
      "P-value: 1.0\n",
      "Không có đủ bằng chứng để kết luận có mối quan hệ giữa platform và branding.\n"
     ]
    }
   ],
   "source": [
    "# 16. Hãy kiểm định xem có mối quan hệ nào giữa platform và branding\n",
    "from scipy.stats import chi2_contingency\n",
    "contingency_table = pd.crosstab(dfKetQua['platform'], dfKetQua['Branding'])\n",
    "chi2, p, dof, expected = chi2_contingency(contingency_table)\n",
    "print(\"Chi-square statistic:\", chi2)\n",
    "print(\"P-value:\", p)\n",
    "alpha = 0.05  # Mức ý nghĩa\n",
    "if p < alpha:\n",
    "    print(\"Có mối quan hệ đáng kể về thống kê giữa platform và branding.\")\n",
    "else:\n",
    "    print(\"Không có đủ bằng chứng để kết luận có mối quan hệ giữa platform và branding.\")"
   ]
  },
  {
   "cell_type": "code",
   "execution_count": 141,
   "metadata": {},
   "outputs": [
    {
     "name": "stdout",
     "output_type": "stream",
     "text": [
      "Chi-square statistic: 210.99999999999997\n",
      "P-value: 2.0134303045850425e-27\n",
      "Có mối quan hệ đáng kể về thống kê giữa platform và monthly_mb.\n"
     ]
    }
   ],
   "source": [
    "# 17. Hãy kiểm định xem có mối quan hệ nào giữa monthly_mb và platform\n",
    "contingency_table = pd.crosstab(dfKetQua['platform'], dfKetQua['monthly_mb'])\n",
    "chi2, p, dof, expected = chi2_contingency(contingency_table)\n",
    "print(\"Chi-square statistic:\", chi2)\n",
    "print(\"P-value:\", p)\n",
    "alpha = 0.05  # Mức ý nghĩa\n",
    "if p < alpha:\n",
    "    print(\"Có mối quan hệ đáng kể về thống kê giữa platform và monthly_mb.\")\n",
    "else:\n",
    "    print(\"Không có đủ bằng chứng để kết luận có mối quan hệ giữa platform và monthly_mb.\")"
   ]
  },
  {
   "cell_type": "code",
   "execution_count": 142,
   "metadata": {},
   "outputs": [
    {
     "name": "stdout",
     "output_type": "stream",
     "text": [
      "Chi-square statistic: nan\n",
      "P-value: nan\n",
      "Không có đủ bằng chứng để kết luận có mối quan hệ giữa platform và monthly_mb theo loại branding.\n"
     ]
    }
   ],
   "source": [
    "# 18. Hãy kiểm định xem có mối quan hệ nào giữa monthly_mb và platform theo loại branding\n",
    "contingency_table = pd.crosstab(dfKetQua['platform'], dfKetQua['monthly_mb'], values=dfKetQua['Branding'], aggfunc='count')\n",
    "chi2, p, dof, expected = chi2_contingency(contingency_table)\n",
    "print(\"Chi-square statistic:\", chi2)\n",
    "print(\"P-value:\", p)\n",
    "alpha = 0.05  # Mức ý nghĩa\n",
    "if p < alpha:\n",
    "    print(\"Có mối quan hệ đáng kể về thống kê giữa platform và monthly_mb theo loại branding.\")\n",
    "else:\n",
    "    print(\"Không có đủ bằng chứng để kết luận có mối quan hệ giữa platform và monthly_mb theo loại branding.\")\n"
   ]
  },
  {
   "cell_type": "code",
   "execution_count": 145,
   "metadata": {},
   "outputs": [
    {
     "name": "stdout",
     "output_type": "stream",
     "text": [
      "Phương trình hồi quy: y = 3567.51 + 2.09 * outgoing_mins_per_month + -3.89 * outgoing_sms_per_month\n"
     ]
    }
   ],
   "source": [
    "# 19. Phân tích sự ảnh hưởng của outgoing_mins_per_month, outgoing_sms_per_month đến \n",
    "# monthly_mb dựa trên mô hình hồi quy tuyến tính\n",
    "import statsmodels.api as sm\n",
    "X = dfKetQua[['outgoing_mins_per_month', 'outgoing_sms_per_month']]\n",
    "y = dfKetQua['monthly_mb']\n",
    "\n",
    "X = sm.add_constant(X)\n",
    "model = sm.OLS(y, X).fit()\n",
    "\n",
    "intercept = model.params['const']\n",
    "coef_mins = model.params['outgoing_mins_per_month']\n",
    "coef_sms = model.params['outgoing_sms_per_month']\n",
    "\n",
    "print(f\"Phương trình hồi quy: y = {intercept:.2f} + {coef_mins:.2f} * outgoing_mins_per_month + {coef_sms:.2f} * outgoing_sms_per_month\")\n"
   ]
  },
  {
   "cell_type": "code",
   "execution_count": 149,
   "metadata": {},
   "outputs": [
    {
     "name": "stdout",
     "output_type": "stream",
     "text": [
      "Predicted monthly MB usage: 3380.51 MB\n"
     ]
    },
    {
     "name": "stderr",
     "output_type": "stream",
     "text": [
      "C:\\Users\\DUONG\\AppData\\Local\\Temp\\ipykernel_19240\\4138689244.py:25: FutureWarning: Series.__getitem__ treating keys as positions is deprecated. In a future version, integer keys will always be treated as labels (consistent with DataFrame behavior). To access a value by position, use `ser.iloc[pos]`\n",
      "  predicted_mb = model.params[0] + model.params[1] * outgoing_mins + model.params[2] * outgoing_sms\n"
     ]
    }
   ],
   "source": [
    "# 20. Dựa trên mô hình hồi quy tuyến tính hãy cho biết nếu outgoing_mins_per_month, \n",
    "# outgoing_sms_per_month lần lượt là 50 phút, 75 tin nhắn thì tháng đó người dùng sẽ tiêu \n",
    "# hao bao nhiêu dung lượng internet (mb) cho quá trình sử dụng. \n",
    "# (*) Lưu ý: Sinh viên xây dựng chương trình phần mềm hoàn chỉnh dạng Console \n",
    "# Application với Input là outgoing_mins_per_month, outgoing_sms_per_month và output \n",
    "# là giá trị monthly_mb dự báo được\n",
    "\n",
    "import statsmodels.formula.api as sm\n",
    "\n",
    "try:\n",
    "    dfKetQua\n",
    "except NameError:\n",
    "    print(\"Error: dfKetQua not found. Please run the data loading and preprocessing code first.\")\n",
    "    exit()\n",
    "model = sm.ols('monthly_mb ~ outgoing_mins_per_month + outgoing_sms_per_month', data=dfKetQua).fit()\n",
    "\n",
    "while True:\n",
    "    try:\n",
    "        outgoing_mins = float(input(\"Enter outgoing minutes per month: \"))\n",
    "        outgoing_sms = float(input(\"Enter outgoing SMS per month: \"))\n",
    "        break\n",
    "    except ValueError:\n",
    "        print(\"Invalid input. Please enter numeric values.\")\n",
    "\n",
    "predicted_mb = model.params[0] + model.params[1] * outgoing_mins + model.params[2] * outgoing_sms\n",
    "\n",
    "print(f\"Predicted monthly MB usage: {predicted_mb:.2f} MB\")\n"
   ]
  },
  {
   "cell_type": "code",
   "execution_count": null,
   "metadata": {},
   "outputs": [],
   "source": [
    "1"
   ]
  }
 ],
 "metadata": {
  "kernelspec": {
   "display_name": "base",
   "language": "python",
   "name": "python3"
  },
  "language_info": {
   "codemirror_mode": {
    "name": "ipython",
    "version": 3
   },
   "file_extension": ".py",
   "mimetype": "text/x-python",
   "name": "python",
   "nbconvert_exporter": "python",
   "pygments_lexer": "ipython3",
   "version": "3.12.7"
  }
 },
 "nbformat": 4,
 "nbformat_minor": 2
}
